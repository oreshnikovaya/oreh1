{
 "cells": [
  {
   "cell_type": "markdown",
   "metadata": {
    "collapsed": true
   },
   "source": [
    "# Домашнее задание 2 \n",
    "\n",
    "Необходимо реализовать схему, указанную в hw_diagram.pdf \n"
   ]
  },
  {
   "cell_type": "markdown",
   "metadata": {},
   "source": [
    "## Описание таблиц \n",
    "PeopleStatus - Описание возможных статусов людей, которые есть в университете (Студент, Преподаватель).\n",
    "Faculties - Описание факультетов, которые есть в университете (KIB, IT, и т.д.).\n",
    "People - Информация о людях в университете (Имя, почта, ссылка на факультет, ссылка на статус).\n",
    "Classes - Описание возможных классов в университете (название (Математический анализ) и ссылка на факультет).\n",
    "Semesters - Справочник семестров факультета(например, Осень2016, '2016-01-01', '2016-12-31').\n",
    "ClassesSchedule - Расписание классов (ссылки на семестр, преподавателя и курс, день недели, время начала).\n",
    "StudentsSchedule - Таблица, описывающая, какой студент ходит на какой курс."
   ]
  },
  {
   "cell_type": "code",
   "execution_count": 1,
   "metadata": {
    "collapsed": false
   },
   "outputs": [
    {
     "data": {
      "text/plain": [
       "'Connected: None@chinook.db'"
      ]
     },
     "execution_count": 1,
     "metadata": {},
     "output_type": "execute_result"
    }
   ],
   "source": [
    "%load_ext sql\n",
    "%sql sqlite:///chinook.db"
   ]
  },
  {
   "cell_type": "markdown",
   "metadata": {},
   "source": [
    "## Создание таблиц\n",
    "Напишет ниже скрипты по созданию таблиц с учетом всех внешних ключей."
   ]
  },
  {
   "cell_type": "code",
   "execution_count": 29,
   "metadata": {
    "collapsed": false
   },
   "outputs": [
    {
     "name": "stdout",
     "output_type": "stream",
     "text": [
      "0 rows affected.\n",
      "0 rows affected.\n",
      "0 rows affected.\n",
      "0 rows affected.\n",
      "0 rows affected.\n",
      "0 rows affected.\n",
      "0 rows affected.\n",
      "0 rows affected.\n",
      "0 rows affected.\n",
      "0 rows affected.\n",
      "0 rows affected.\n",
      "0 rows affected.\n",
      "0 rows affected.\n",
      "0 rows affected.\n"
     ]
    },
    {
     "data": {
      "text/plain": [
       "[]"
      ]
     },
     "execution_count": 29,
     "metadata": {},
     "output_type": "execute_result"
    }
   ],
   "source": [
    "%%sql\n",
    "drop table if exists PeopleStatus;\n",
    "drop table if exists People;\n",
    "drop table if exists StudentsSchedule;\n",
    "drop table if exists ClassesSchedule;\n",
    "drop table if exists Semesters;\n",
    "drop table if exists Classes;\n",
    "drop table if exists Faculties;\n",
    "create table PeopleStatus(\n",
    "id int,\n",
    "name varchar,\n",
    "primary key (id)\n",
    ");\n",
    "create table People(\n",
    "id int,\n",
    "name varchar,\n",
    "email varchar,\n",
    "fac_id int,\n",
    "status_id int,\n",
    "primary key (id),\n",
    "foreign key (status_id) references PeopleStatus (id)\n",
    "foreign key (fac_id) references Faculties (id)\n",
    ");\n",
    "create table StudentsSchedule(\n",
    "student_id int,\n",
    "classesshedule_id,\n",
    "primary key (student_id),\n",
    "foreign key (student_id) references People (id)\n",
    "foreign key (classesshedule_id) references People (id)\n",
    ");\n",
    "create table ClassesSchedule(\n",
    "id int,\n",
    "class_id int,\n",
    "teacher_id int,\n",
    "semester_id int,\n",
    "week_day int,\n",
    "time_start varchar,\n",
    "primary key (id),\n",
    "foreign key (class_id) references Classes (id)\n",
    "foreign key (teacher_id) references People (id)\n",
    "foreign key (semester_id) references Semestres (id)\n",
    ");\n",
    "create table Semesters(\n",
    "id int,\n",
    "shortname varchar,\n",
    "date_start date,\n",
    "date_end date,\n",
    "primary key (id)\n",
    ");\n",
    "create table Classes(\n",
    "id int,\n",
    "description varchar,\n",
    "fac_id int,\n",
    "primary key (id),\n",
    "foreign key (fac_id) references Faculties (id)\n",
    ");\n",
    "create table Faculties(\n",
    "id int,\n",
    "name varchar,\n",
    "primary key (id)\n",
    ");"
   ]
  },
  {
   "cell_type": "markdown",
   "metadata": {},
   "source": [
    "## Добавление записей в таблицы\n",
    "Приведите примеры добавления записей в каждую из таблиц\n"
   ]
  },
  {
   "cell_type": "code",
   "execution_count": 33,
   "metadata": {
    "collapsed": false
   },
   "outputs": [
    {
     "name": "stdout",
     "output_type": "stream",
     "text": [
      "1 rows affected.\n"
     ]
    },
    {
     "data": {
      "text/plain": [
       "[]"
      ]
     },
     "execution_count": 33,
     "metadata": {},
     "output_type": "execute_result"
    }
   ],
   "source": [
    "%%sql\n",
    "insert into People(id, name, email, fac_id) values (12, 'John', 'johny@mail.ru', 5);"
   ]
  },
  {
   "cell_type": "markdown",
   "metadata": {},
   "source": [
    "Находится ли указанная схема ниже в BCNF? Напишите ниже функциональные зависимости, которые вы считаете, есть в указанной схеме. "
   ]
  },
  {
   "cell_type": "markdown",
   "metadata": {},
   "source": []
  }
 ],
 "metadata": {
  "kernelspec": {
   "display_name": "Python 3",
   "language": "python",
   "name": "python3"
  },
  "language_info": {
   "codemirror_mode": {
    "name": "ipython",
    "version": 3
   },
   "file_extension": ".py",
   "mimetype": "text/x-python",
   "name": "python",
   "nbconvert_exporter": "python",
   "pygments_lexer": "ipython3",
   "version": "3.6.0"
  }
 },
 "nbformat": 4,
 "nbformat_minor": 2
}
